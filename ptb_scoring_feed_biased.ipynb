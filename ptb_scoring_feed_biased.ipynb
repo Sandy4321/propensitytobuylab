{
    "nbformat_minor": 1, 
    "cells": [
        {
            "source": "# Propensity to Buy Scoring Feed With Biased Data", 
            "cell_type": "markdown", 
            "metadata": {}
        }, 
        {
            "source": "This notebook can be scheduled to provide a continuous flow of data to your Propensity model. Paste your Watson Machine Learning credentials below, and verify that the value of the **DEPLOYMENT_NAME** variable matches the name of your deployed Propensity model. You can also set the maximum and minimum number of records that will be scored per run.", 
            "cell_type": "markdown", 
            "metadata": {}
        }, 
        {
            "source": "!pip install --upgrade watson-machine-learning-client --no-cache | tail -n 1", 
            "cell_type": "code", 
            "metadata": {}, 
            "outputs": [], 
            "execution_count": null
        }, 
        {
            "source": "WML_CREDENTIALS = {Insert WML Credentials Here}", 
            "cell_type": "code", 
            "metadata": {}, 
            "outputs": [], 
            "execution_count": null
        }, 
        {
            "source": "DEPLOYMENT_NAME = \"Propensity Model\"\nMIN_RECORDS = 1000\nMAX_RECORDS = 1000", 
            "cell_type": "code", 
            "metadata": {}, 
            "outputs": [], 
            "execution_count": null
        }, 
        {
            "source": "import json, random\nfrom watson_machine_learning_client import WatsonMachineLearningAPIClient", 
            "cell_type": "code", 
            "metadata": {}, 
            "outputs": [], 
            "execution_count": null
        }, 
        {
            "source": "wml_client = WatsonMachineLearningAPIClient(WML_CREDENTIALS)", 
            "cell_type": "code", 
            "metadata": {}, 
            "outputs": [], 
            "execution_count": null
        }, 
        {
            "source": "!rm df_payload_biased.json\n!wget https://raw.githubusercontent.com/shadgriffin/propensitytobuylab/master/df_payload_biased.json", 
            "cell_type": "code", 
            "metadata": {}, 
            "outputs": [], 
            "execution_count": null
        }, 
        {
            "source": "wml_deployments = wml_client.deployments.get_details()\nscoring_url = None\nfor deployment in wml_deployments['resources']:\n    if DEPLOYMENT_NAME == deployment['entity']['name']:\n        scoring_url = deployment['entity']['scoring_url']\n        break\n    \nprint(\"Scoring URL: {}\".format(scoring_url))", 
            "cell_type": "code", 
            "metadata": {}, 
            "outputs": [], 
            "execution_count": null
        }, 
        {
            "source": "try:\n    with open('df_payload_biased.json', 'r') as scoring_file:\n        scoring_data = json.load(scoring_file)\n    print('file found')\n    \nexcept:\n    !wget https://raw.githubusercontent.com/shadgriffin/propensitytobuylab/master/df_payload_biased.json\n    with open('df_payload_biased.json', 'r') as scoring_file:\n        scoring_data = json.load(scoring_file)\n    print('file downloaded')", 
            "cell_type": "code", 
            "metadata": {}, 
            "outputs": [], 
            "execution_count": null
        }, 
        {
            "source": "fields = scoring_data['fields']\nvalues = []\nfor _ in range(0, random.randint(MIN_RECORDS, MAX_RECORDS)):\n    values.append(random.choice(scoring_data['values']))\npayload_scoring = {\"fields\": fields, \"values\": values}\n\nscoring_response = wml_client.deployments.score(scoring_url, payload_scoring)\nprint(scoring_response)", 
            "cell_type": "code", 
            "metadata": {}, 
            "outputs": [], 
            "execution_count": null
        }, 
        {
            "source": "", 
            "cell_type": "code", 
            "metadata": {}, 
            "outputs": [], 
            "execution_count": null
        }, 
        {
            "source": "", 
            "cell_type": "code", 
            "metadata": {}, 
            "outputs": [], 
            "execution_count": null
        }, 
        {
            "source": "", 
            "cell_type": "code", 
            "metadata": {}, 
            "outputs": [], 
            "execution_count": null
        }
    ], 
    "metadata": {
        "kernelspec": {
            "display_name": "Python 3.5", 
            "name": "python3", 
            "language": "python"
        }, 
        "language_info": {
            "mimetype": "text/x-python", 
            "nbconvert_exporter": "python", 
            "version": "3.5.5", 
            "name": "python", 
            "pygments_lexer": "ipython3", 
            "file_extension": ".py", 
            "codemirror_mode": {
                "version": 3, 
                "name": "ipython"
            }
        }
    }, 
    "nbformat": 4
}