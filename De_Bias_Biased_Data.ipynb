{
    "nbformat_minor": 1, 
    "cells": [
        {
            "source": "import json\nimport requests\n# Insert your Cloud API Key.  Must be the same one you used in the first notebook\ncloud_api_key = \"INSERT API KEY\"", 
            "cell_type": "code", 
            "metadata": {}, 
            "outputs": [], 
            "execution_count": null
        }, 
        {
            "source": "\n\ntoken_data = {\n   'grant_type': 'urn:ibm:params:oauth:grant-type:apikey',\n   'response_type': 'cloud_iam',\n   'apikey': cloud_api_key\n}\n\nresponse = requests.post('https://iam.bluemix.net/identity/token', data=token_data)\niam_token = response.json()['access_token']\n\nprint(iam_token)", 
            "cell_type": "code", 
            "metadata": {}, 
            "outputs": [], 
            "execution_count": null
        }, 
        {
            "source": "!rm df_payload_biased.json\n!wget https://raw.githubusercontent.com/shadgriffin/propensitytobuylab/master/df_payload_biased.json", 
            "cell_type": "code", 
            "metadata": {}, 
            "outputs": [], 
            "execution_count": null
        }, 
        {
            "source": "!rm df_payload_biased.json\ntry:\n    with open('df_payload_biased.json', 'r') as scoring_file:\n        scoring_data = json.load(scoring_file)\n    print('file found')\n    \nexcept:\n    !wget https://raw.githubusercontent.com/shadgriffin/propensitytobuylab/master/df_payload_biased.json\n    with open('df_payload_biased.json', 'r') as scoring_file:\n        scoring_data = json.load(scoring_file)\n    print('file downloaded')", 
            "cell_type": "code", 
            "metadata": {}, 
            "outputs": [], 
            "execution_count": null
        }, 
        {
            "source": "import random\nMIN_RECORDS = 1000\nMAX_RECORDS = 1000\nfields = scoring_data['fields']\nvalues = []\nfor _ in range(0, random.randint(MIN_RECORDS, MAX_RECORDS)):\n    values.append(random.choice(scoring_data['values']))\npayload = {\"fields\": fields, \"values\": values}", 
            "cell_type": "code", 
            "metadata": {}, 
            "outputs": [], 
            "execution_count": null
        }, 
        {
            "source": "import requests\n\nURL = \"Insert your De-Biased End-Point Here\"\n\nheaders = {\"Authorization\":\"Bearer \"+iam_token,\"content-type\":\"application/json\", \"Accept\":\"application/json\"}\n\nresponse = requests.post(URL, json=payload, headers=headers)\nprint(json.dumps(response.json()))", 
            "cell_type": "code", 
            "metadata": {}, 
            "outputs": [], 
            "execution_count": null
        }, 
        {
            "source": "", 
            "cell_type": "code", 
            "metadata": {}, 
            "outputs": [], 
            "execution_count": null
        }
    ], 
    "metadata": {
        "kernelspec": {
            "display_name": "Python 3.5", 
            "name": "python3", 
            "language": "python"
        }, 
        "language_info": {
            "mimetype": "text/x-python", 
            "nbconvert_exporter": "python", 
            "version": "3.5.5", 
            "name": "python", 
            "pygments_lexer": "ipython3", 
            "file_extension": ".py", 
            "codemirror_mode": {
                "version": 3, 
                "name": "ipython"
            }
        }
    }, 
    "nbformat": 4
}